{
 "cells": [
  {
   "cell_type": "markdown",
   "metadata": {},
   "source": [
    "### Introduction\n",
    "Time series analysis is important for various applications in real life. The assumptions underlying analysis are that the properties or parametrs describing data are either constant or slowly time varying. But may practica problems in quality control, signal processing and fault detection and monitoring of industrial plants, involves abrupt changes of parameters. Detection of abrupt changes refres to the tools that help us decide whteher such a change occured. \n",
    "\n",
    "### Fault Detection in Controlled Dynamic Systems\n",
    "1. Detection of failures or catastrophic events.\n",
    "2. Detection of smaller faults (sudden or gradual modifications, which affect process without causing it stop.\n",
    "\n",
    "### Segmentation of Signals\n",
    "*Segmentation of signals* refers to the automatic decomposition of given signal into stationary, or weakly nonstationary, segments, the length of which is adapted to the local properties of the signal. \n",
    "\n",
    "### Online Detection of a Change\n",
    "Let ${(y_k)}_{1\\le k\\le n)}$  be a sequence of obsrved random variables with conditional density $ p_\\theta(y_k|y_{k-1},...,y_1)$. Before the unknown change time $t_0$, the conditional density parameter $\\theta$ is constant and equal to $\\theta_0$. After the change, the parameter is equal to $\\theta_1$. The online problem is to detect the occurence of the change as soon as possible, with a fixed rate of fa;se a;arms before $t_0$. The estimation of the change time $t_0$ is not required, neither estimation of paramaters $\\thea_0, \\theta_1$ is required, but sometimes can be helpful. \n",
    "\n",
    "### Offline Hypothesis Testing\n",
    "The offline detection can be formulated as Hypothesis testing. Given a finite samples $y_1, ...., y_N$ test between\n",
    " \n",
    "$$H_0 : \\text{for } 1\\le k \\le N : p_\\theta(y_k| y_{k-1}, ..., y_1) = p_{\\theta_0}(y_k| y_{k-1}, ..., y_1) $$\n",
    "\n",
    "$$H_1 : \\text{there exists an unknow } 1\\le t_0 \\le N \\text{such that:}$$ \n",
    "$$ \\text{for } 1 \\le k \\le t_0 -1 : p_\\theta(y_k| y_{k-1}, ..., y_1) = p_{\\theta'_0}(y_k| y_{k-1}, ..., y_1)$$ \n",
    "$$ \\text{for } t_0 \\le k \\le N : p_\\theta(y_k| y_{k-1}, ..., y_1) = p_{\\theta_1}(y_k| y_{k-1}, ..., y_1)$$\n",
    "\n",
    "### Offline Estimation of Change Time\n",
    "Same hypothesis as above is considered, asssuming change does take place in thesample of observations. The problm is to estimate $t_0$. \n",
    "\n",
    "### Perfomace Indexes for Evaluation\n",
    "1. *mean time between false alarms.*\n",
    "2. *probability of false detection*\n",
    "3. *mean delay for detection*\n",
    "4. *probability of nondetection*\n",
    "5. *accuracy of the change time and magnitude estimates*\n",
    "\n",
    "\n",
    "### Designing the Algorithm\n",
    "#### Choice of model and use of Prior Information\n",
    "*Models useful for detection and monitoring are usually smaller than phisical models for identificatio and recognition*. Another important issue is use of prior information about the changes. When model structure and parameters have been chosen, it is useful to know the possible values of the parameters before and after change, and how this prior information should be used.\n",
    "\n",
    "#### Redundancy Relationships\n",
    "Possible general approaches\n",
    "1. Generation of residulas which are ideally chosen to zero when no change occurs, and significantly different from zero after a change.\n",
    "2. Design decision rules based on these residuls. \n",
    "One way of obtaining such residulas is to use analytical redundancy relations. For example in checmical process, static balance equations are helpful for detecting failures in pipes, sensors and actuators for fluid flows. \n",
    "\n",
    "#### Nuissance Parameters\n",
    "Some of the parameters would help in estimating change, however some other parameters will be required for representing system, these will not be directly helpful in estimation. These are called nuisance parameters.\n",
    "\n",
    "### Investigating the Algorithms\n",
    "\n",
    "#### Properties of the Algorithms\n",
    "Key criteria for online change detection algorithms are\n",
    "* Mean time between false alarms\n",
    "* Delay of detection\n",
    "* Average run length function\n",
    "* Detectability ( weaker performance index based on first two)\n",
    "\n",
    "#### Detectability\n"
   ]
  },
  {
   "cell_type": "code",
   "execution_count": null,
   "metadata": {},
   "outputs": [],
   "source": []
  }
 ],
 "metadata": {
  "kernelspec": {
   "display_name": "Python 3",
   "language": "python",
   "name": "python3"
  },
  "language_info": {
   "codemirror_mode": {
    "name": "ipython",
    "version": 3
   },
   "file_extension": ".py",
   "mimetype": "text/x-python",
   "name": "python",
   "nbconvert_exporter": "python",
   "pygments_lexer": "ipython3",
   "version": "3.7.3"
  }
 },
 "nbformat": 4,
 "nbformat_minor": 2
}
